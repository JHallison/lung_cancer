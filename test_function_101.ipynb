{
 "cells": [
  {
   "cell_type": "code",
   "execution_count": 6,
   "id": "6802a359-c47d-48b6-978b-139372be0b35",
   "metadata": {},
   "outputs": [],
   "source": [
    "import pandas as pd"
   ]
  },
  {
   "cell_type": "code",
   "execution_count": 9,
   "id": "4bbe63da-7bf3-42cb-8531-cf431fbba886",
   "metadata": {},
   "outputs": [],
   "source": [
    "x=\"test\"\n",
    "y=3.14"
   ]
  },
  {
   "cell_type": "code",
   "execution_count": 21,
   "id": "18757f69-8000-495e-9fff-851e3847e6fa",
   "metadata": {},
   "outputs": [],
   "source": [
    "def add_two_numbers(a: int|float = 10, b: int|float = 10) -> int|float:\n",
    "    \"\"\"\n",
    "    This function adds two numbers \n",
    "    a: a is an integer or a float\n",
    "    b: b is an integer or a float\n",
    "    returns: new number\n",
    "    \"\"\"\n",
    "    \n",
    "    new_number = a + b\n",
    "    return new_number"
   ]
  },
  {
   "cell_type": "code",
   "execution_count": 22,
   "id": "d63e44c2-9bfa-478c-99e2-1fba53e7ad70",
   "metadata": {},
   "outputs": [],
   "source": [
    "my_number = add_two_numbers()"
   ]
  },
  {
   "cell_type": "code",
   "execution_count": 23,
   "id": "c7f06d58-ced7-413d-8ef0-b8f2ad7c089a",
   "metadata": {},
   "outputs": [
    {
     "name": "stdout",
     "output_type": "stream",
     "text": [
      "20\n"
     ]
    }
   ],
   "source": [
    "print(my_number)"
   ]
  }
 ],
 "metadata": {
  "kernelspec": {
   "display_name": "Python 3 (ipykernel)",
   "language": "python",
   "name": "python3"
  },
  "language_info": {
   "codemirror_mode": {
    "name": "ipython",
    "version": 3
   },
   "file_extension": ".py",
   "mimetype": "text/x-python",
   "name": "python",
   "nbconvert_exporter": "python",
   "pygments_lexer": "ipython3",
   "version": "3.12.9"
  }
 },
 "nbformat": 4,
 "nbformat_minor": 5
}
